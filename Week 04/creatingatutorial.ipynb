{
 "cells": [
  {
   "cell_type": "markdown",
   "metadata": {},
   "source": [
    "# Assignment 3. \n",
    "\n",
    "Python has four different built-in containers. These are lists, tuples, sets and dictionaries.\n",
    "\n",
    "You have learned about lists and tuples. It is time to learn sets and dictionaries.\n",
    "\n",
    "We will do a session in the lectures. In addition you should follow your favourite tutorial on the subject.\n",
    "\n",
    "You should keep a log while you work which you submit separatedly.\n",
    "\n",
    "As usual any conversation with an AI should be copied and submit in whole.\n",
    "\n",
    "\n",
    "### You will be asked to provide examples. \n",
    "\n",
    "For full score try to \n",
    "\n",
    "- relate your examples to games programming\n",
    "- be creative in your examples (but keep them short) \n",
    "- make it clear that you have worked hard on this problem.\n"
   ]
  },
  {
   "cell_type": "markdown",
   "metadata": {},
   "source": [
    "## Lists\n",
    "\n",
    "Lists store elements of any type. \n",
    "Lists allow repetitions.\n",
    "The elements in a list are ordered and are accessed using an index.\n",
    "Elements are mutable.\n",
    "\n",
    "We can create lists using list comprehension.\n",
    "\n",
    "### Tasks\n",
    "\n",
    "### a)\n",
    "\n",
    "Give a example of a problem where you think a list is the best container. Give reasons why you think the other containers are not such a good choice.\n",
    "\n",
    "Write the answer in markdown.\n",
    "\n",
    "### b)\n",
    "\n",
    "Give a short code example where you illustrate the use of list comprehension to solve a simple problem. You will get more points if your example is related to games programming.\n",
    "\n",
    "### c)\n",
    "\n",
    "Give a code example where you write one list comprehension which produces a list of numbers. The list comprehension should contain three for and three if statements. \n"
   ]
  },
  {
   "cell_type": "markdown",
   "metadata": {},
   "source": [
    "Your answer to a)\n",
    "A list is good for sotring large ammont of similar data. An exaple is particles. You can store their their position and velocity in an array and apply the same calculations to the whole list. If the list contains different cinds of data that requires different opperations some other container type might be more apropriate."
   ]
  },
  {
   "cell_type": "code",
   "execution_count": 2,
   "metadata": {},
   "outputs": [
    {
     "data": {
      "text/plain": [
       "[[False, True, False, False, False, False, False, False, False, False],\n",
       " [False, False, False, False, False, False, False, False, False, False],\n",
       " [False, False, False, True, False, False, False, False, False, False],\n",
       " [False, False, True, False, False, False, False, False, False, False],\n",
       " [False, False, False, False, False, False, False, False, False, False],\n",
       " [False, False, False, False, False, False, False, False, False, False],\n",
       " [False, False, False, False, False, False, False, False, False, False],\n",
       " [False, False, False, False, False, False, False, False, False, False],\n",
       " [False, False, False, False, False, False, False, False, False, False],\n",
       " [False, False, False, False, False, False, False, False, False, False]]"
      ]
     },
     "execution_count": 2,
     "metadata": {},
     "output_type": "execute_result"
    }
   ],
   "source": [
    "# Converts position of pieces to a representation of the game board with true for whrere the pieces are\n",
    "coords = [[0, 1], [3, 2], [2, 3]]\n",
    "[ [True if [x, y] in coords else False for y in range(10)] for x in range(10)]"
   ]
  },
  {
   "cell_type": "code",
   "execution_count": 2,
   "metadata": {},
   "outputs": [
    {
     "data": {
      "text/plain": [
       "[15, 18, 15, 18, 21, 18, 21, 21, 24, 21, 24, 24, 27, 24, 27]"
      ]
     },
     "execution_count": 2,
     "metadata": {},
     "output_type": "execute_result"
    }
   ],
   "source": [
    "# code for c)\n",
    "[ val for x in range(12) if x!=3 for y in range(12, 14) if y%2==0 for z in [1, 3, 4, 5] if (val:=x+y+z)%3==0]"
   ]
  },
  {
   "cell_type": "markdown",
   "metadata": {},
   "source": [
    "## Tuples\n",
    "\n",
    "Tuples are like lists, except elements are immutable (can not be changed)\n",
    "\n",
    "### a)\n",
    "\n",
    "Give an example of pyglet code where a tuple is used as an argument to a function.\n",
    "\n",
    "### b)\n",
    "\n",
    "Give some advantages of tuples over lists.\n",
    "\n",
    "Answer in markdown.\n",
    "\n",
    "### c)\n",
    "\n",
    "Elements in are immutable, which means they are not allowed to change. So for instance\n",
    "```\n",
    "myTuple = (1,2)\n",
    "myTuple[0] = 3 \n",
    "``` \n",
    "results in an error. Yet the code \n",
    "```\n",
    "myTuple = ([1],[2])\n",
    "myTuple[0][1] = 3\n",
    "```\n",
    "does not result in an error. Explain why that is? \n",
    "\n",
    "Answer in markdown.\n"
   ]
  },
  {
   "cell_type": "code",
   "execution_count": null,
   "metadata": {},
   "outputs": [],
   "source": [
    "# answer to a)\n",
    "pyglet.shapes.circle(2, 2, 3, color=(12, 233, 122))"
   ]
  },
  {
   "cell_type": "markdown",
   "metadata": {},
   "source": [
    "Answer to b)\n",
    "Touples are good to store datastructures without giving the members names. You can do the same to a list but since they are mutable you run the risk of changing the order so a name might swap place with a phone number"
   ]
  },
  {
   "cell_type": "markdown",
   "metadata": {},
   "source": [
    "Answer to c)\n",
    "The second one does not cause an error because you change the contents of the list wich is mutable. The touple does not make the content recursively imutable."
   ]
  },
  {
   "cell_type": "markdown",
   "metadata": {},
   "source": [
    "## Sets\n",
    "\n",
    "Sets are unordered. \n",
    "Sets do not allow repetitions.\n",
    "The elements in a set are immutable.\n",
    "\n",
    "### a)\n",
    "\n",
    "Give a example problem where you think a set is the best container. You will get more points if your example is related to games. You need to explain why you think a set is the best container.\n",
    "\n",
    "Write the answer in markdown.\n",
    "\n",
    "### b)\n",
    "\n",
    "Give example code showing how to add and remove elements from a set.\n",
    "\n",
    "### c)\n",
    "\n",
    "Give example code showing how to loop over the elements of a set.\n",
    "\n",
    "### d)\n",
    "\n",
    "Show in code how to do set operations like union, intersection, complement and symmetric difference (= xor in logic).\n",
    "\n",
    "There are two ways to do these operations. One approach changes the elements of the set. The other returns a new set containing the result of the operation, without changing the original set. Show uses of both.\n",
    "\n",
    "### e)\n",
    "\n",
    "Give three short code examples where you show how to use set comprehension. If your examples are creative and related to games programming, you will score more points.\n",
    "\n",
    "\n"
   ]
  },
  {
   "cell_type": "markdown",
   "metadata": {},
   "source": [
    "answer to a)\n",
    "A set is nice if you want a quick overview of the inventory. In the inventory the items qould be spread around and hard to se what items toy have. Each time a player gets an item you could ad it to the set and when the player wants to know what type of items they have you have an easily availabe set of items."
   ]
  },
  {
   "cell_type": "code",
   "execution_count": 5,
   "metadata": {},
   "outputs": [
    {
     "data": {
      "text/plain": [
       "{1, 3, 6, 7, 23}"
      ]
     },
     "execution_count": 5,
     "metadata": {},
     "output_type": "execute_result"
    }
   ],
   "source": [
    "# answer to b)\n",
    "set1 = {1, 2, 3, 7, 23}\n",
    "set1.remove(2)\n",
    "set1.add(6)\n",
    "set1"
   ]
  },
  {
   "cell_type": "code",
   "execution_count": 1,
   "metadata": {},
   "outputs": [
    {
     "name": "stdout",
     "output_type": "stream",
     "text": [
      "1\n",
      "3\n",
      "4\n",
      "5\n"
     ]
    }
   ],
   "source": [
    "# answer to c)\n",
    "for x in {1, 3, 4, 4, 5}: print(x)"
   ]
  },
  {
   "cell_type": "code",
   "execution_count": 8,
   "metadata": {},
   "outputs": [
    {
     "name": "stdout",
     "output_type": "stream",
     "text": [
      "{1, 2, 3, 'b', 'a'} {1, 2, 3, 'b', 'a'}\n",
      "{2} {2}\n",
      "{1, 'b', 3, 'a'} {1, 3, 'b', 'a'}\n"
     ]
    }
   ],
   "source": [
    "# answer to d)\n",
    "set1 = {1, 2, 3}\n",
    "set2 = {\"a\", 2, \"b\"}\n",
    "set3 = set1.union(set2)\n",
    "set1.update(set2)\n",
    "print(set1, set3)\n",
    "\n",
    "set1 = {1, 2, 3}\n",
    "set2 = {\"a\", 2, \"b\"}\n",
    "set3 = set1.intersection(set2)\n",
    "set1.intersection_update(set2)\n",
    "print(set1, set3)\n",
    "\n",
    "set1 = {1, 2, 3}\n",
    "set2 = {\"a\", 2, \"b\"}\n",
    "set3 = set1.symmetric_difference(set2)\n",
    "set1.symmetric_difference_update(set2)\n",
    "print(set1, set3)\n"
   ]
  },
  {
   "cell_type": "code",
   "execution_count": 10,
   "metadata": {},
   "outputs": [
    {
     "name": "stdout",
     "output_type": "stream",
     "text": [
      "{'bow', 'dirt', 'sand', 'crowbar'}\n"
     ]
    }
   ],
   "source": [
    "# answer to e)\n",
    "from random import randint\n",
    "items = ['dirt', 'sand', 'bow', 'crowbar']\n",
    "inventory=[]\n",
    "types = set()\n",
    "\n",
    "for i in range(20):\n",
    "    item = items[randint(0, len(items)-1)]\n",
    "    inventory.append(item)\n",
    "    types.add(item)\n",
    "\n",
    "#Player wants to know the types of items in their inventory\n",
    "print(types)"
   ]
  },
  {
   "cell_type": "markdown",
   "metadata": {},
   "source": [
    "## Dictionaries\n",
    "\n",
    "Dictionaries are ordered since Python 3.7. Elements are mutable. \n",
    "\n",
    "### a)\n",
    "\n",
    "Give a example problem where you think a dictionary is the best container.\n",
    "\n",
    "Write the answer in markdown.\n",
    "\n",
    "### b)\n",
    "\n",
    "Give example code showing how to add and remove elements from a dictionary.\n",
    "\n",
    "### c)\n",
    "\n",
    "Give example code showing how to loop over the elements of a dictionary. It is possible to loop over the keys, the items and both the keys and items. Show code examples for all three.\n",
    "\n",
    "### d)\n",
    "\n",
    "Give a short code example where you show how to use dictionary comprehension to create a large dictionary with more than 1000 entries. You will get a better score if your example is relevant to games programming.\n",
    "\n"
   ]
  },
  {
   "cell_type": "markdown",
   "metadata": {},
   "source": [
    "Answer to a\n",
    "A dictionary is good when you have a small set of data that might be confused with each other. You can then give them more human readable names to keep track of them"
   ]
  },
  {
   "cell_type": "code",
   "execution_count": 12,
   "metadata": {},
   "outputs": [
    {
     "name": "stdout",
     "output_type": "stream",
     "text": [
      "{'b': 12}\n"
     ]
    }
   ],
   "source": [
    "# Answer to b)\n",
    "dict = {'a': 2}\n",
    "dict.update({'b': 12})\n",
    "dict.pop('a')\n",
    "print(dict)"
   ]
  },
  {
   "cell_type": "code",
   "execution_count": 3,
   "metadata": {},
   "outputs": [
    {
     "name": "stdout",
     "output_type": "stream",
     "text": [
      "[['Bil', 2], ['Sykkel', 3], ['Båt', 11]] ['Bil', 'Sykkel', 'Båt'] [2, 3, 11]\n"
     ]
    }
   ],
   "source": [
    "# Answer to c)\n",
    "dict = {'Bil': 2, 'Sykkel': 3, 'Båt': 11}\n",
    "keyValPair = [[key, val] for key, val in dict.items()]\n",
    "keys = [key for key in dict]\n",
    "values = [val for val in dict.values()]\n",
    "print(keyValPair, keys, values)"
   ]
  },
  {
   "cell_type": "code",
   "execution_count": 8,
   "metadata": {},
   "outputs": [],
   "source": [
    "# Ansver to d)\n",
    "# Chat log example \n",
    "from random import random\n",
    "from time import time, localtime, asctime\n",
    "from lorem import sentence\n",
    "\n",
    "# Generates an example of a chat log\n",
    "log = {asctime(localtime(time()+random()*i)):sentence() for i in range(1, 1000)}"
   ]
  },
  {
   "cell_type": "code",
   "execution_count": null,
   "metadata": {},
   "outputs": [],
   "source": []
  },
  {
   "cell_type": "markdown",
   "metadata": {},
   "source": [
    "### Submit your log here (submit chatgpt conversation as a separate file)"
   ]
  },
  {
   "cell_type": "markdown",
   "metadata": {},
   "source": []
  }
 ],
 "metadata": {
  "kernelspec": {
   "display_name": "Python 3",
   "language": "python",
   "name": "python3"
  },
  "language_info": {
   "codemirror_mode": {
    "name": "ipython",
    "version": 3
   },
   "file_extension": ".py",
   "mimetype": "text/x-python",
   "name": "python",
   "nbconvert_exporter": "python",
   "pygments_lexer": "ipython3",
   "version": "3.10.12"
  }
 },
 "nbformat": 4,
 "nbformat_minor": 2
}
